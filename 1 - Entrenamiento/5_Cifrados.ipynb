{
  "nbformat": 4,
  "nbformat_minor": 0,
  "metadata": {
    "colab": {
      "provenance": []
    },
    "kernelspec": {
      "name": "python3",
      "display_name": "Python 3"
    },
    "language_info": {
      "name": "python"
    }
  },
  "cells": [
    {
      "cell_type": "markdown",
      "source": [
        "#### ***CIFRADO CESAR - Version 1***\n"
      ],
      "metadata": {
        "id": "H2WqWsFmdNmw"
      }
    },
    {
      "cell_type": "code",
      "execution_count": 1,
      "metadata": {
        "colab": {
          "base_uri": "https://localhost:8080/"
        },
        "id": "Z9aRx3WRbRwi",
        "outputId": "8b2138ef-2b23-4c97-8a65-803a15d0a377"
      },
      "outputs": [
        {
          "output_type": "stream",
          "name": "stdout",
          "text": [
            "Ingresa el texto a cifrar: David Ricardo Ordoñez Mora\n",
            "Ingresa el desplazamiento (número entero): -2\n",
            "¿Deseas descifrar el texto? (s/n): s\n",
            "\n",
            "Información en el DataFrame:\n",
            "               Texto Original               Texto Cifrado  \\\n",
            "0  David Ricardo Ordoñez Mora  Bytgb Pgaypbm Mpbmmcx Kmpy   \n",
            "\n",
            "             Texto Descifrado  \n",
            "0  David Ricardo Ordooez Mora  \n"
          ]
        }
      ],
      "source": [
        "import pandas as pd\n",
        "\n",
        "def cifradoCesar(texto, desplazamiento):\n",
        "    resultado = \"\"\n",
        "\n",
        "    # Iterar sobre cada carácter del texto\n",
        "    for char in texto:\n",
        "        if char.isalpha():  # Verificar si el carácter es una letra\n",
        "            # Ajustar el desplazamiento para mayúsculas y minúsculas\n",
        "            offset = 65 if char.isupper() else 97\n",
        "            # Realizar el desplazamiento y agregar la letra resultante\n",
        "            resultado += chr((ord(char) - offset + desplazamiento) % 26 + offset)\n",
        "        else:\n",
        "            # Si no es una letra, simplemente agregar el carácter tal cual\n",
        "            resultado += char\n",
        "\n",
        "    return resultado\n",
        "\n",
        "# Pedir al usuario que ingrese el texto y el desplazamiento\n",
        "textoOriginal = input(\"Ingresa el texto a cifrar: \")\n",
        "desplazamiento = int(input(\"Ingresa el desplazamiento (número entero): \"))\n",
        "\n",
        "# Cifrar el texto\n",
        "textoCifrado = cifradoCesar(textoOriginal, desplazamiento)\n",
        "\n",
        "# Preguntar si desea descifrarlo\n",
        "descifrar = input(\"¿Deseas descifrar el texto? (s/n): \")\n",
        "if descifrar.lower() == \"s\":\n",
        "    textoDescifrado = cifradoCesar(textoCifrado, -desplazamiento)\n",
        "else:\n",
        "    textoDescifrado = None  # No hay texto descifrado si no lo pidió\n",
        "\n",
        "# Crear un DataFrame con la información\n",
        "df_CifradoCesar = pd.DataFrame({\n",
        "    'Texto Original': [textoOriginal],\n",
        "    'Texto Cifrado': [textoCifrado],\n",
        "    'Texto Descifrado': [textoDescifrado] if textoDescifrado else ['N/A']\n",
        "})\n",
        "\n",
        "# Mostrar el DataFrame\n",
        "print(\"\\nInformación en el DataFrame:\")\n",
        "print(df_CifradoCesar)\n"
      ]
    },
    {
      "cell_type": "markdown",
      "source": [
        "#### ***CIFRADO CESAR - Version 2***"
      ],
      "metadata": {
        "id": "9XurEdQ0dBNy"
      }
    },
    {
      "cell_type": "code",
      "source": [
        "import pandas as pd\n",
        "\n",
        "def cifradoCesar(texto, desplazamiento):\n",
        "    resultado = \"\"\n",
        "\n",
        "    # Iterar sobre cada carácter del texto\n",
        "    for char in texto:\n",
        "        if char.isalpha():  # Verificar si el carácter es una letra\n",
        "            # Ajustar el desplazamiento para mayúsculas y minúsculas\n",
        "            offset = 65 if char.isupper() else 97\n",
        "            # Realizar el desplazamiento y agregar la letra resultante\n",
        "            resultado += chr((ord(char) - offset + desplazamiento) % 26 + offset)\n",
        "        else:\n",
        "            # Si no es una letra, simplemente agregar el carácter tal cual\n",
        "            resultado += char\n",
        "\n",
        "    return resultado\n",
        "\n",
        "def cifradoFuerzaBruta(texto):\n",
        "    resultados = []\n",
        "    for desplazamiento in range(1, 26):  # Probar todos los desplazamientos posibles\n",
        "        texto_descifrado = cifradoCesar(texto, -desplazamiento)\n",
        "        resultados.append((desplazamiento, texto_descifrado))\n",
        "    return resultados\n",
        "\n",
        "# Menú de opciones\n",
        "def mainMenu():\n",
        "    print(\"\\nSeleccione una opción:\")\n",
        "    print(\"1. Cifrar mensaje\")\n",
        "    print(\"2. Descifrar mensaje\")\n",
        "    print(\"3. Cifrado de Fuerza Bruta\")\n",
        "    print(\"4. Salir\")\n",
        "\n",
        "# Función principal\n",
        "def main():\n",
        "    while True:\n",
        "        mainMenu()\n",
        "        opcion = input(\"Opción: \")\n",
        "\n",
        "        if opcion == \"1\":\n",
        "            # Opción 1: Cifrado de César\n",
        "            textoOriginal = input(\"Ingresa el texto a cifrar: \")\n",
        "            desplazamiento = int(input(\"Ingresa el desplazamiento (número entero): \"))\n",
        "\n",
        "            # Cifrar el texto\n",
        "            textoCifrado = cifradoCesar(textoOriginal, desplazamiento)\n",
        "\n",
        "            # Crear un DataFrame con la información\n",
        "            df = pd.DataFrame({\n",
        "                'Texto Original': [textoOriginal],\n",
        "                'Texto Cifrado': [textoCifrado]\n",
        "            })\n",
        "\n",
        "            # Mostrar el DataFrame\n",
        "            print(\"\\nInformación en el DataFrame:\")\n",
        "            print(df)\n",
        "\n",
        "        elif opcion == \"2\":\n",
        "            # Opción 2: Descifrado de César\n",
        "            textoCifrado = input(\"Ingresa el texto a descifrar: \")\n",
        "            desplazamiento = int(input(\"Ingresa el desplazamiento de descifrado (número entero): \"))\n",
        "\n",
        "            # Descifrar el texto\n",
        "            texto_descifrado = cifradoCesar(textoCifrado, -desplazamiento)\n",
        "\n",
        "            # Crear un DataFrame con la información\n",
        "            df = pd.DataFrame({\n",
        "                'Texto Cifrado': [textoCifrado],\n",
        "                'Texto Descifrado': [texto_descifrado]\n",
        "            })\n",
        "\n",
        "            # Mostrar el DataFrame\n",
        "            print(\"\\nInformación en el DataFrame:\")\n",
        "            print(df)\n",
        "\n",
        "        elif opcion == \"3\":\n",
        "            # Opción 3: Cifrado de Fuerza Bruta\n",
        "            textoCifrado = input(\"Ingresa el texto cifrado para aplicar fuerza bruta: \")\n",
        "            resultsFuerzaBruta = cifradoFuerzaBruta(textoCifrado)\n",
        "\n",
        "            # Crear un DataFrame con los resultados de fuerza bruta\n",
        "            df_FuerzaBruta = pd.DataFrame(resultsFuerzaBruta, columns=['Desplazamiento', 'Texto Descifrado'])\n",
        "\n",
        "            # Mostrar el DataFrame con las posibles opciones de descifrado\n",
        "            print(\"\\nResultados de Fuerza Bruta:\")\n",
        "            print(df_FuerzaBruta)\n",
        "\n",
        "        elif opcion == \"4\":\n",
        "            print(\"Saliendo del programa...\")\n",
        "            break  # Salir del bucle y terminar el programa\n",
        "\n",
        "        else:\n",
        "            print(\"Opción no válida. Intenta nuevamente.\")\n",
        "\n",
        "# Ejecutar el programa\n",
        "if __name__ == \"__main__\":\n",
        "    main()\n"
      ],
      "metadata": {
        "id": "FBdvSr69dIhd"
      },
      "execution_count": null,
      "outputs": []
    }
  ]
}