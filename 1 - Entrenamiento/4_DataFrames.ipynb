{
  "nbformat": 4,
  "nbformat_minor": 0,
  "metadata": {
    "colab": {
      "provenance": []
    },
    "kernelspec": {
      "name": "python3",
      "display_name": "Python 3"
    },
    "language_info": {
      "name": "python"
    }
  },
  "cells": [
    {
      "cell_type": "markdown",
      "source": [
        "###***D a t a - F r a m e s***"
      ],
      "metadata": {
        "id": "_gzDz_M7ZZQT"
      }
    },
    {
      "cell_type": "code",
      "execution_count": null,
      "metadata": {
        "id": "RvLhLzUcZEyD"
      },
      "outputs": [],
      "source": [
        "import pandas as pd\n",
        "\n",
        "\n",
        "# Create a dataset\n",
        "# Let´s build the values lists\n",
        "# value_name_list = ['Andrew', 'Phillip', 'John']\n",
        "# print(value_name_list)\n",
        "\n",
        "value_ID = [1,2,3,4,5,6,7,8,9,10]\n",
        "value_Name = [\"Maria\", \"Carlos\", \"Adry\", \"Eleanyss\", \"Neathan\", \"Sthephan\", \"George\", \"Hanna\", \"Ian\", \"Julia\"]\n",
        "value_Grade = [6,7,8,9,10,11,12,8,9,10]\n",
        "value_Passed = [True, True, False, True, True, False, True, True, False, True]\n",
        "\n",
        "# Let´s use a dictionary ({key:value})\n",
        "# with the format {\"str\":list}\n",
        "\n",
        "students_df = {\"ID\":value_ID,\n",
        "             \"Name\":value_Name,\n",
        "             \"Grade\":value_Grade,\n",
        "             \"Passed\":value_Passed}\n",
        "\n",
        "print(students_df)\n",
        "\n",
        "# Turn a dictionary into a dataframe\n",
        "df = pd.DataFrame(students_df)\n",
        "\n",
        "print(df)\n",
        "# Call a variable\n",
        "df"
      ]
    }
  ]
}